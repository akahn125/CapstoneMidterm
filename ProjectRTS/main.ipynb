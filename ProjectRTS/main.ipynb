{
  "nbformat": 4,
  "nbformat_minor": 0,
  "metadata": {
    "kernelspec": {
      "display_name": "Python 3",
      "language": "python",
      "name": "python3"
    },
    "language_info": {
      "codemirror_mode": {
        "name": "ipython",
        "version": 3
      },
      "file_extension": ".py",
      "mimetype": "text/x-python",
      "name": "python",
      "nbconvert_exporter": "python",
      "pygments_lexer": "ipython3",
      "version": "3.7.4"
    },
    "colab": {
      "name": "main.ipynb",
      "provenance": [],
      "include_colab_link": true
    }
  },
  "cells": [
    {
      "cell_type": "markdown",
      "metadata": {
        "id": "view-in-github",
        "colab_type": "text"
      },
      "source": [
        "<a href=\"https://colab.research.google.com/github/akahn125/CapstoneMidterm/blob/main/ProjectRTS/main.ipynb\" target=\"_parent\"><img src=\"https://colab.research.google.com/assets/colab-badge.svg\" alt=\"Open In Colab\"/></a>"
      ]
    },
    {
      "cell_type": "markdown",
      "metadata": {
        "id": "f-gfzE23hREh"
      },
      "source": [
        "# Recognizing Traffic Signs\n",
        "The goal of this project is to build a model capable of determining the type of traffic sign that is displayed in an image captured under different real-life conditions and showing obstructions, poor lighting, or even the sign being far away from the camera. We provide you with labeled images already splited in three files (tran/val/test) and a predefined list of signs to recognise. "
      ]
    },
    {
      "cell_type": "code",
      "metadata": {
        "id": "vEBtNjGWhREm"
      },
      "source": [
        "# Download and unzip\n",
        "dataroot = \"dataroot/\"\n",
        "!mkdir dataroot \n",
        "!wget -P dataroot https://raw.githubusercontent.com/emmanueliarussi/DataScienceCapstone/master/3_MidtermProjects/ProjectRTS/data/data_1.zip\n",
        "!wget -P dataroot https://raw.githubusercontent.com/emmanueliarussi/DataScienceCapstone/master/3_MidtermProjects/ProjectRTS/data/data_2.zip\n",
        "!wget -P dataroot https://raw.githubusercontent.com/emmanueliarussi/DataScienceCapstone/master/3_MidtermProjects/ProjectRTS/data/data_3.zip "
      ],
      "execution_count": null,
      "outputs": []
    },
    {
      "cell_type": "code",
      "metadata": {
        "id": "YNsuWwP5hREp"
      },
      "source": [
        "# Unzip\n",
        "import zipfile\n",
        "with zipfile.ZipFile(dataroot+\"data_1.zip\",\"r\") as zip_ref:\n",
        "    zip_ref.extractall(dataroot)\n",
        "with zipfile.ZipFile(dataroot+\"data_2.zip\",\"r\") as zip_ref:\n",
        "    zip_ref.extractall(dataroot)\n",
        "with zipfile.ZipFile(dataroot+\"data_3.zip\",\"r\") as zip_ref:\n",
        "    zip_ref.extractall(dataroot)"
      ],
      "execution_count": null,
      "outputs": []
    },
    {
      "cell_type": "code",
      "metadata": {
        "id": "0uZ_zTeThREq"
      },
      "source": [
        "# Load sign names\n",
        "import pandas as pd\n",
        "df = pd.read_csv(\"https://raw.githubusercontent.com/emmanueliarussi/DataScienceCapstone/master/3_MidtermProjects/ProjectRTS/data/signnames.csv\")\n",
        "signnames = pd.Series(df.SignName.values,index=df.ClassId).to_dict()\n",
        "signnames"
      ],
      "execution_count": null,
      "outputs": []
    },
    {
      "cell_type": "code",
      "metadata": {
        "id": "5aiUDo72hREq"
      },
      "source": [
        "# Load images\n",
        "import pickle\n",
        "signimages = pickle.load( open( dataroot+\"train.p\", \"rb\" ) )"
      ],
      "execution_count": null,
      "outputs": []
    },
    {
      "cell_type": "code",
      "metadata": {
        "id": "avySa7IShREr"
      },
      "source": [
        "# Preview image\n",
        "import matplotlib.pyplot as plt\n",
        "import numpy as np\n",
        "import cv2\n",
        "\n",
        "inx = 20123\n",
        "plt.imshow(signimages['features'][inx])\n",
        "print(\"The image shows a {} sign\".format(signnames[signimages['labels'][inx]]))"
      ],
      "execution_count": null,
      "outputs": []
    }
  ]
}